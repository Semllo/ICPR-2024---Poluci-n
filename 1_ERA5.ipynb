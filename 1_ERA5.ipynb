{
 "cells": [
  {
   "cell_type": "code",
   "execution_count": 1,
   "metadata": {},
   "outputs": [
    {
     "name": "stderr",
     "output_type": "stream",
     "text": [
      "2024-02-14 14:10:46,200 INFO Welcome to the CDS\n",
      "2024-02-14 14:10:46,202 INFO Sending request to https://cds.climate.copernicus.eu/api/v2/resources/reanalysis-era5-single-levels\n",
      "2024-02-14 14:10:46,399 INFO Request is completed\n",
      "2024-02-14 14:10:46,401 INFO Downloading https://download-0017.copernicus-climate.eu/cache-compute-0017/cache/data5/adaptor.mars.internal-1707888163.7919676-24248-11-41ff2768-6069-4fc6-a3f9-644bce58349a.nc to Dades/datos_climaticos_era5_2018.nc (201.8M)\n",
      "2024-02-14 14:11:00,567 INFO Download rate 14.3M/s \n",
      "2024-02-14 14:11:05,660 INFO Welcome to the CDS\n",
      "2024-02-14 14:11:05,662 INFO Sending request to https://cds.climate.copernicus.eu/api/v2/resources/reanalysis-era5-single-levels\n",
      "2024-02-14 14:11:05,875 INFO Downloading https://download-0021.copernicus-climate.eu/cache-compute-0021/cache/data5/adaptor.mars.internal-1707900916.551273-19198-1-27b64a59-ba5c-469b-9084-28976f91e05b.nc to Dades/datos_climaticos_era5_2019.nc (201.8M)\n",
      "2024-02-14 14:11:12,568 INFO Download rate 30.2M/s \n",
      "2024-02-14 14:11:17,658 INFO Welcome to the CDS\n",
      "2024-02-14 14:11:17,660 INFO Sending request to https://cds.climate.copernicus.eu/api/v2/resources/reanalysis-era5-single-levels\n",
      "2024-02-14 14:11:17,727 INFO Request is queued\n",
      "2024-02-14 15:47:50,522 WARNING HTTP error: [500 Internal Server Error]. Attempt 1 of 500.\n",
      "2024-02-14 15:47:50,524 WARNING Retrying in 120 seconds\n",
      "2024-02-14 15:49:50,526 INFO Retrying now...\n",
      "2024-02-14 15:50:20,836 WARNING HTTP error: [500 Internal Server Error]. Attempt 2 of 500.\n",
      "2024-02-14 15:50:20,838 WARNING Retrying in 120 seconds\n",
      "2024-02-14 15:52:20,840 INFO Retrying now...\n",
      "2024-02-14 20:37:05,693 INFO Request is running\n",
      "2024-02-14 22:21:23,728 INFO Request is completed\n",
      "2024-02-14 22:21:23,731 INFO Downloading https://download-0004-clone.copernicus-climate.eu/cache-compute-0004/cache/data2/adaptor.mars.internal-1707945357.2699735-684-11-2cb01b03-c7e3-4f36-9f9c-87e74dc284db.nc to Dades/datos_climaticos_era5_2021.nc (201.8M)\n",
      "2024-02-14 22:21:51,967 INFO Download rate 7.1M/s  \n",
      "2024-02-14 22:21:57,049 INFO Welcome to the CDS\n",
      "2024-02-14 22:21:57,051 INFO Sending request to https://cds.climate.copernicus.eu/api/v2/resources/reanalysis-era5-single-levels\n",
      "2024-02-14 22:21:57,102 INFO Request is queued\n",
      "2024-02-15 06:23:30,324 INFO Request is running\n",
      "2024-02-15 09:23:58,147 INFO Request is completed\n",
      "2024-02-15 09:23:58,149 INFO Downloading https://download-0015-clone.copernicus-climate.eu/cache-compute-0015/cache/data3/adaptor.mars.internal-1707985155.378796-13326-4-ff05eca3-7d02-4978-81a7-6f4a988ab983.nc to Dades/datos_climaticos_era5_2022.nc (201.8M)\n",
      "2024-02-15 09:24:44,957 INFO Download rate 4.3M/s  \n"
     ]
    }
   ],
   "source": [
    "import cdsapi\n",
    "import time\n",
    "import xarray as xr\n",
    "\n",
    "c = cdsapi.Client(url='https://cds.climate.copernicus.eu/api/v2', key='')\n",
    "\n",
    "years_to_request = ['2018', '2019','2020', '2021', '2022']\n",
    "months = [str(month).zfill(2) for month in range(1, 13)]\n",
    "days = [str(day).zfill(2) for day in range(1, 32)]\n",
    "hours = [str(hour).zfill(2) + ':00' for hour in range(0, 24)]\n",
    "folder_path = 'Dades/'\n",
    "files = []\n",
    "\n",
    "for year in years_to_request:\n",
    "    filename = f'datos_climaticos_era5_{year}.nc'\n",
    "    full_path = folder_path + filename\n",
    "    files.append(full_path)  \n",
    "    c.retrieve(\n",
    "        'reanalysis-era5-single-levels',\n",
    "        {\n",
    "            'product_type': 'reanalysis',\n",
    "            'variable': [\n",
    "                '2m_temperature',\n",
    "                '10m_u_component_of_wind',\n",
    "                '10m_v_component_of_wind',\n",
    "                'surface_pressure',\n",
    "                'surface_solar_radiation_downwards',\n",
    "                'total_precipitation'\n",
    "            ],\n",
    "            'year': year,\n",
    "            'month': months,\n",
    "            'day': days,\n",
    "            'time': hours,\n",
    "            'area': [44, -10, 36, 5],  # Spain\n",
    "            'format': 'netcdf',\n",
    "        },\n",
    "        full_path\n",
    "    )\n",
    "    time.sleep(5)  \n",
    "\n",
    "ds_list = [xr.open_dataset(file) for file in files]\n",
    "combined_ds = xr.concat(ds_list, dim='time')\n",
    "combined_filename_drive = 'Dades/combinedERA5.nc'\n",
    "combined_ds.to_netcdf(combined_filename_drive)"
   ]
  }
 ],
 "metadata": {
  "kernelspec": {
   "display_name": "base",
   "language": "python",
   "name": "python3"
  },
  "language_info": {
   "codemirror_mode": {
    "name": "ipython",
    "version": 3
   },
   "file_extension": ".py",
   "mimetype": "text/x-python",
   "name": "python",
   "nbconvert_exporter": "python",
   "pygments_lexer": "ipython3",
   "version": "3.11.5"
  }
 },
 "nbformat": 4,
 "nbformat_minor": 2
}
